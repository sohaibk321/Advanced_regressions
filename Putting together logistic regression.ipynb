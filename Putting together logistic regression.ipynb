{
 "cells": [
  {
   "cell_type": "code",
   "execution_count": 1,
   "metadata": {
    "collapsed": true
   },
   "outputs": [],
   "source": [
    "import pandas as pd\n",
    "from matplotlib import pyplot as plt\n",
    "import numpy as np\n",
    "import math\n",
    "import seaborn as sns\n",
    "import sklearn\n",
    "import statsmodels.api as sm\n",
    "from sklearn import linear_model\n",
    "from sklearn import preprocessing\n",
    "from sklearn.model_selection import cross_val_score\n",
    "from sklearn.model_selection import train_test_split\n",
    "from sklearn import utils\n",
    "%matplotlib inline\n",
    "sns.set_style('white')"
   ]
  },
  {
   "cell_type": "code",
   "execution_count": 2,
   "metadata": {},
   "outputs": [
    {
     "data": {
      "text/html": [
       "<div>\n",
       "<style scoped>\n",
       "    .dataframe tbody tr th:only-of-type {\n",
       "        vertical-align: middle;\n",
       "    }\n",
       "\n",
       "    .dataframe tbody tr th {\n",
       "        vertical-align: top;\n",
       "    }\n",
       "\n",
       "    .dataframe thead th {\n",
       "        text-align: right;\n",
       "    }\n",
       "</style>\n",
       "<table border=\"1\" class=\"dataframe\">\n",
       "  <thead>\n",
       "    <tr style=\"text-align: right;\">\n",
       "      <th></th>\n",
       "      <th>Age</th>\n",
       "      <th>Attrition</th>\n",
       "      <th>DailyRate</th>\n",
       "      <th>DistanceFromHome</th>\n",
       "      <th>Education</th>\n",
       "      <th>EmployeeCount</th>\n",
       "      <th>EmployeeNumber</th>\n",
       "      <th>EnvironmentSatisfaction</th>\n",
       "      <th>Gender</th>\n",
       "      <th>HourlyRate</th>\n",
       "      <th>...</th>\n",
       "      <th>TotalWorkingYears</th>\n",
       "      <th>TrainingTimesLastYear</th>\n",
       "      <th>WorkLifeBalance</th>\n",
       "      <th>YearsAtCompany</th>\n",
       "      <th>YearsInCurrentRole</th>\n",
       "      <th>YearsSinceLastPromotion</th>\n",
       "      <th>YearsWithCurrManager</th>\n",
       "      <th>Human Resources</th>\n",
       "      <th>Research &amp; Development</th>\n",
       "      <th>Sales</th>\n",
       "    </tr>\n",
       "  </thead>\n",
       "  <tbody>\n",
       "    <tr>\n",
       "      <th>0</th>\n",
       "      <td>41</td>\n",
       "      <td>1</td>\n",
       "      <td>1102</td>\n",
       "      <td>1</td>\n",
       "      <td>2</td>\n",
       "      <td>1</td>\n",
       "      <td>1</td>\n",
       "      <td>2</td>\n",
       "      <td>0</td>\n",
       "      <td>94</td>\n",
       "      <td>...</td>\n",
       "      <td>8</td>\n",
       "      <td>0</td>\n",
       "      <td>1</td>\n",
       "      <td>6</td>\n",
       "      <td>4</td>\n",
       "      <td>0</td>\n",
       "      <td>5</td>\n",
       "      <td>0</td>\n",
       "      <td>0</td>\n",
       "      <td>1</td>\n",
       "    </tr>\n",
       "    <tr>\n",
       "      <th>1</th>\n",
       "      <td>49</td>\n",
       "      <td>0</td>\n",
       "      <td>279</td>\n",
       "      <td>8</td>\n",
       "      <td>1</td>\n",
       "      <td>1</td>\n",
       "      <td>2</td>\n",
       "      <td>3</td>\n",
       "      <td>1</td>\n",
       "      <td>61</td>\n",
       "      <td>...</td>\n",
       "      <td>10</td>\n",
       "      <td>3</td>\n",
       "      <td>3</td>\n",
       "      <td>10</td>\n",
       "      <td>7</td>\n",
       "      <td>1</td>\n",
       "      <td>7</td>\n",
       "      <td>0</td>\n",
       "      <td>1</td>\n",
       "      <td>0</td>\n",
       "    </tr>\n",
       "    <tr>\n",
       "      <th>2</th>\n",
       "      <td>37</td>\n",
       "      <td>1</td>\n",
       "      <td>1373</td>\n",
       "      <td>2</td>\n",
       "      <td>2</td>\n",
       "      <td>1</td>\n",
       "      <td>4</td>\n",
       "      <td>4</td>\n",
       "      <td>1</td>\n",
       "      <td>92</td>\n",
       "      <td>...</td>\n",
       "      <td>7</td>\n",
       "      <td>3</td>\n",
       "      <td>3</td>\n",
       "      <td>0</td>\n",
       "      <td>0</td>\n",
       "      <td>0</td>\n",
       "      <td>0</td>\n",
       "      <td>0</td>\n",
       "      <td>1</td>\n",
       "      <td>0</td>\n",
       "    </tr>\n",
       "    <tr>\n",
       "      <th>3</th>\n",
       "      <td>33</td>\n",
       "      <td>0</td>\n",
       "      <td>1392</td>\n",
       "      <td>3</td>\n",
       "      <td>4</td>\n",
       "      <td>1</td>\n",
       "      <td>5</td>\n",
       "      <td>4</td>\n",
       "      <td>0</td>\n",
       "      <td>56</td>\n",
       "      <td>...</td>\n",
       "      <td>8</td>\n",
       "      <td>3</td>\n",
       "      <td>3</td>\n",
       "      <td>8</td>\n",
       "      <td>7</td>\n",
       "      <td>3</td>\n",
       "      <td>0</td>\n",
       "      <td>0</td>\n",
       "      <td>1</td>\n",
       "      <td>0</td>\n",
       "    </tr>\n",
       "    <tr>\n",
       "      <th>4</th>\n",
       "      <td>27</td>\n",
       "      <td>0</td>\n",
       "      <td>591</td>\n",
       "      <td>2</td>\n",
       "      <td>1</td>\n",
       "      <td>1</td>\n",
       "      <td>7</td>\n",
       "      <td>1</td>\n",
       "      <td>1</td>\n",
       "      <td>40</td>\n",
       "      <td>...</td>\n",
       "      <td>6</td>\n",
       "      <td>3</td>\n",
       "      <td>3</td>\n",
       "      <td>2</td>\n",
       "      <td>2</td>\n",
       "      <td>2</td>\n",
       "      <td>2</td>\n",
       "      <td>0</td>\n",
       "      <td>1</td>\n",
       "      <td>0</td>\n",
       "    </tr>\n",
       "  </tbody>\n",
       "</table>\n",
       "<p>5 rows × 33 columns</p>\n",
       "</div>"
      ],
      "text/plain": [
       "   Age  Attrition  DailyRate  DistanceFromHome  Education  EmployeeCount  \\\n",
       "0   41          1       1102                 1          2              1   \n",
       "1   49          0        279                 8          1              1   \n",
       "2   37          1       1373                 2          2              1   \n",
       "3   33          0       1392                 3          4              1   \n",
       "4   27          0        591                 2          1              1   \n",
       "\n",
       "   EmployeeNumber  EnvironmentSatisfaction  Gender  HourlyRate  ...    \\\n",
       "0               1                        2       0          94  ...     \n",
       "1               2                        3       1          61  ...     \n",
       "2               4                        4       1          92  ...     \n",
       "3               5                        4       0          56  ...     \n",
       "4               7                        1       1          40  ...     \n",
       "\n",
       "   TotalWorkingYears  TrainingTimesLastYear  WorkLifeBalance  YearsAtCompany  \\\n",
       "0                  8                      0                1               6   \n",
       "1                 10                      3                3              10   \n",
       "2                  7                      3                3               0   \n",
       "3                  8                      3                3               8   \n",
       "4                  6                      3                3               2   \n",
       "\n",
       "   YearsInCurrentRole  YearsSinceLastPromotion  YearsWithCurrManager  \\\n",
       "0                   4                        0                     5   \n",
       "1                   7                        1                     7   \n",
       "2                   0                        0                     0   \n",
       "3                   7                        3                     0   \n",
       "4                   2                        2                     2   \n",
       "\n",
       "   Human Resources  Research & Development  Sales  \n",
       "0                0                       0      1  \n",
       "1                0                       1      0  \n",
       "2                0                       1      0  \n",
       "3                0                       1      0  \n",
       "4                0                       1      0  \n",
       "\n",
       "[5 rows x 33 columns]"
      ]
     },
     "metadata": {},
     "output_type": "display_data"
    }
   ],
   "source": [
    "df = pd.read_csv(\"IBM HR attrition.csv\")\n",
    "#display(df.select_dtypes('object'))\n",
    "df['Attrition'] = np.where(df['Attrition']=='Yes', 1, 0)\n",
    "df['OverTime'] = np.where(df['OverTime']=='Yes', 1, 0)\n",
    "df['Over18'] = np.where(df['Over18']==\"Y\", 1, 0)\n",
    "df['Gender'] = np.where(df['Gender']=='Male', 1, 0)\n",
    "df = pd.concat([df, pd.get_dummies(df['Department'])], axis=1)\n",
    "df.columns\n",
    "df.drop(columns=['BusinessTravel', 'Department', 'EducationField', 'JobRole', 'MaritalStatus'], inplace=True)\n",
    "display(df.head())\n",
    "#Now all the data is in numerical format\n",
    "df.dropna(inplace=True)"
   ]
  },
  {
   "cell_type": "markdown",
   "metadata": {},
   "source": [
    "### Vanilla Logistic Regression"
   ]
  },
  {
   "cell_type": "code",
   "execution_count": 3,
   "metadata": {},
   "outputs": [
    {
     "name": "stdout",
     "output_type": "stream",
     "text": [
      "Optimization terminated successfully.\n",
      "         Current function value: 0.320065\n",
      "         Iterations 8\n",
      "                           Logit Regression Results                           \n",
      "==============================================================================\n",
      "Dep. Variable:              Attrition   No. Observations:                 1470\n",
      "Model:                          Logit   Df Residuals:                     1441\n",
      "Method:                           MLE   Df Model:                           28\n",
      "Date:                Tue, 30 Oct 2018   Pseudo R-squ.:                  0.2754\n",
      "Time:                        14:34:44   Log-Likelihood:                -470.50\n",
      "converged:                       True   LL-Null:                       -649.29\n",
      "                                        LLR p-value:                 7.397e-59\n",
      "============================================================================================\n",
      "                               coef    std err          z      P>|z|      [0.025      0.975]\n",
      "--------------------------------------------------------------------------------------------\n",
      "Age                         -0.0336      0.013     -2.596      0.009      -0.059      -0.008\n",
      "DailyRate                   -0.0003      0.000     -1.653      0.098      -0.001    6.37e-05\n",
      "DistanceFromHome             0.0377      0.010      3.676      0.000       0.018       0.058\n",
      "Education                    0.0266      0.083      0.321      0.748      -0.136       0.189\n",
      "EmployeeCount                0.0008   1.02e+08   7.63e-12      1.000   -1.99e+08    1.99e+08\n",
      "EmployeeNumber              -0.0001      0.000     -0.885      0.376      -0.000       0.000\n",
      "EnvironmentSatisfaction     -0.3788      0.078     -4.870      0.000      -0.531      -0.226\n",
      "Gender                       0.3828      0.175      2.181      0.029       0.039       0.727\n",
      "HourlyRate                  -0.0005      0.004     -0.122      0.903      -0.009       0.008\n",
      "JobInvolvement              -0.5143      0.116     -4.424      0.000      -0.742      -0.286\n",
      "JobLevel                    -0.3625      0.279     -1.297      0.195      -0.910       0.185\n",
      "JobSatisfaction             -0.3646      0.076     -4.772      0.000      -0.514      -0.215\n",
      "MonthlyIncome            -4.738e-05   6.64e-05     -0.713      0.476      -0.000    8.29e-05\n",
      "MonthlyRate               5.251e-06   1.19e-05      0.443      0.658    -1.8e-05    2.85e-05\n",
      "NumCompaniesWorked           0.1741      0.036      4.856      0.000       0.104       0.244\n",
      "Over18                       0.0008   8.61e+07   9.05e-12      1.000   -1.69e+08    1.69e+08\n",
      "OverTime                     1.7994      0.179     10.027      0.000       1.448       2.151\n",
      "PercentSalaryHike           -0.0406      0.037     -1.104      0.270      -0.113       0.031\n",
      "PerformanceRating            0.2412      0.374      0.644      0.519      -0.493       0.975\n",
      "RelationshipSatisfaction    -0.2503      0.079     -3.173      0.002      -0.405      -0.096\n",
      "StandardHours                0.0621   9248.078   6.72e-06      1.000   -1.81e+04    1.81e+04\n",
      "StockOptionLevel            -0.5633      0.111     -5.072      0.000      -0.781      -0.346\n",
      "TotalWorkingYears           -0.0433      0.027     -1.588      0.112      -0.097       0.010\n",
      "TrainingTimesLastYear       -0.1248      0.068     -1.826      0.068      -0.259       0.009\n",
      "WorkLifeBalance             -0.2859      0.115     -2.493      0.013      -0.511      -0.061\n",
      "YearsAtCompany               0.0888      0.036      2.435      0.015       0.017       0.160\n",
      "YearsInCurrentRole          -0.1432      0.043     -3.315      0.001      -0.228      -0.059\n",
      "YearsSinceLastPromotion      0.1560      0.040      3.872      0.000       0.077       0.235\n",
      "YearsWithCurrManager        -0.1235      0.044     -2.823      0.005      -0.209      -0.038\n",
      "Human Resources              0.1153      1.233      0.093      0.926      -2.301       2.532\n",
      "Research & Development      -0.4711      1.087     -0.433      0.665      -2.601       1.659\n",
      "Sales                        0.3566      1.112      0.321      0.749      -1.824       2.537\n",
      "intercept                    0.0008        nan        nan        nan         nan         nan\n",
      "============================================================================================\n"
     ]
    },
    {
     "name": "stderr",
     "output_type": "stream",
     "text": [
      "C:\\Users\\sohai\\Anaconda3\\lib\\site-packages\\statsmodels\\base\\model.py:1092: RuntimeWarning: invalid value encountered in sqrt\n",
      "  bse_ = np.sqrt(np.diag(self.cov_params()))\n",
      "C:\\Users\\sohai\\Anaconda3\\lib\\site-packages\\scipy\\stats\\_distn_infrastructure.py:879: RuntimeWarning: invalid value encountered in greater\n",
      "  return (self.a < x) & (x < self.b)\n",
      "C:\\Users\\sohai\\Anaconda3\\lib\\site-packages\\scipy\\stats\\_distn_infrastructure.py:879: RuntimeWarning: invalid value encountered in less\n",
      "  return (self.a < x) & (x < self.b)\n",
      "C:\\Users\\sohai\\Anaconda3\\lib\\site-packages\\scipy\\stats\\_distn_infrastructure.py:1821: RuntimeWarning: invalid value encountered in less_equal\n",
      "  cond2 = cond0 & (x <= self.a)\n"
     ]
    }
   ],
   "source": [
    "# Declare predictors.\n",
    "X_statsmod = df.drop('Attrition', axis=1)\n",
    "X_statsmod['intercept'] = 1 \n",
    "X_train, X_test, Y_train, Y_test= train_test_split(X_statsmod, df['Attrition'], test_size=.2, random_state=10)\n",
    "logit = sm.Logit(df['Attrition'], X_statsmod)\n",
    "result = logit.fit(maxiter=20)\n",
    "\n",
    "# Lots of information about the model and its coefficients, but the\n",
    "# accuracy rate for predictions is missing.\n",
    "print(result.summary())"
   ]
  },
  {
   "cell_type": "code",
   "execution_count": 4,
   "metadata": {},
   "outputs": [
    {
     "name": "stdout",
     "output_type": "stream",
     "text": [
      "\n",
      "R-Squared Value: \n",
      "0.8666666666666667\n",
      "Attrition     0    1\n",
      "row_0               \n",
      "0          1215  178\n",
      "1            18   59\n",
      "False Negative rate: 75.10% \n",
      "False Positive rate: 1.45% \n"
     ]
    }
   ],
   "source": [
    "logreg = linear_model.LogisticRegression(C=1e9) \n",
    "#C is set very high to offset the penalty, thereby almost negating it entirely\n",
    "X = df.drop('Attrition', axis=1)\n",
    "Y = df['Attrition']\n",
    "logreg.fit(X, Y)\n",
    "y_pred = logreg.predict(X)\n",
    "print(\"\\nR-Squared Value: \")\n",
    "print(logreg.score(X, Y))\n",
    "\n",
    "sum_tn, sum_tp, sum_fn, sum_fp = 0,0,0,0\n",
    "for i in range(len(Y)):\n",
    "    if ((Y[i]==0) and (y_pred[i]==0)):\n",
    "        sum_tn+=1\n",
    "    elif ((Y[i]==0) and (y_pred[i]==1)):\n",
    "        sum_fp+=1\n",
    "    elif ((Y[i]==1) and (y_pred[i]==0)):\n",
    "        sum_fn+=1\n",
    "    else:\n",
    "        sum_tp+=1\n",
    "print(pd.crosstab(y_pred, Y))\n",
    "print(\"False Negative rate: {}% \\nFalse Positive rate: {}% \".format(\n",
    "    str(sum_fn/(sum_fn+sum_tp)*100)[:5],\n",
    "    str(sum_fp/(sum_fp+sum_tn)*100)[:4]))\n",
    "#class imbalance present"
   ]
  },
  {
   "cell_type": "code",
   "execution_count": 5,
   "metadata": {},
   "outputs": [
    {
     "name": "stdout",
     "output_type": "stream",
     "text": [
      "20% sample score:  0.8469387755102041\n",
      "Full sample score:  0.8666666666666667\n"
     ]
    }
   ],
   "source": [
    "X_train, X_test, Y_train, Y_test= train_test_split(X, Y, test_size=.2, random_state=10)\n",
    "print('20% sample score: ', logreg.fit(X_train, Y_train).score(X_test, Y_test))\n",
    "print('Full sample score: ', logreg.fit(X, Y).score(X, Y))"
   ]
  },
  {
   "cell_type": "code",
   "execution_count": 6,
   "metadata": {},
   "outputs": [
    {
     "data": {
      "text/plain": [
       "array([0.87837838, 0.85135135, 0.86486486, 0.87755102, 0.85034014,\n",
       "       0.84353741, 0.8707483 , 0.85616438, 0.89041096, 0.87671233])"
      ]
     },
     "execution_count": 6,
     "metadata": {},
     "output_type": "execute_result"
    }
   ],
   "source": [
    "cross_val_score(logreg, X, Y, cv=10)\n",
    "#relatively good fit, even though imbalance might cause problems"
   ]
  },
  {
   "cell_type": "markdown",
   "metadata": {},
   "source": [
    "### L2 Regularizaiton/Ridge Regression"
   ]
  },
  {
   "cell_type": "code",
   "execution_count": 7,
   "metadata": {},
   "outputs": [
    {
     "name": "stdout",
     "output_type": "stream",
     "text": [
      "\n",
      "R-Squared Value: \n",
      "0.8659863945578231\n",
      "1213 60 177 20\n",
      "False Negative rate: 74.68% \n",
      "False Positive rate: 1.62% \n"
     ]
    }
   ],
   "source": [
    "ridge = linear_model.LogisticRegression()\n",
    "#df = pd.DataFrame(preprocessing.scale(df), columns=df.columns)\n",
    "X = df.drop('Attrition', axis=1)\n",
    "Y = df['Attrition']\n",
    "ridge.fit(X, Y)\n",
    "y_pred = ridge.predict(X)\n",
    "print(\"\\nR-Squared Value: \")\n",
    "print(ridge.score(X, Y))\n",
    "\n",
    "sum_tn, sum_tp, sum_fn, sum_fp = 0,0,0,0\n",
    "for i in range(len(Y)):\n",
    "    if ((Y[i]==0) and (y_pred[i]==0)):\n",
    "        sum_tn+=1\n",
    "    elif ((Y[i]==0) and (y_pred[i]==1)):\n",
    "        sum_fp+=1\n",
    "    elif ((Y[i]==1) and (y_pred[i]==0)):\n",
    "        sum_fn+=1\n",
    "    else:\n",
    "        sum_tp+=1\n",
    "print(sum_tn, sum_tp, sum_fn, sum_fp)\n",
    "print(\"False Negative rate: {}% \\nFalse Positive rate: {}% \".format(\n",
    "    str(sum_fn/(sum_fn+sum_tp)*100)[:5],\n",
    "    str(sum_fp/(sum_fp+sum_tn)*100)[:4]))\n",
    "#class imbalance present"
   ]
  },
  {
   "cell_type": "code",
   "execution_count": 8,
   "metadata": {},
   "outputs": [
    {
     "name": "stdout",
     "output_type": "stream",
     "text": [
      "20% sample score:  0.8469387755102041\n",
      "Full sample score:  0.8659863945578231\n"
     ]
    },
    {
     "data": {
      "text/plain": [
       "array([0.83783784, 0.85810811, 0.86486486, 0.87755102, 0.85714286,\n",
       "       0.85034014, 0.86394558, 0.85616438, 0.87671233, 0.86986301])"
      ]
     },
     "execution_count": 8,
     "metadata": {},
     "output_type": "execute_result"
    }
   ],
   "source": [
    "X_train, X_test, Y_train, Y_test= train_test_split(X, Y, test_size=.2, random_state=10)\n",
    "print('20% sample score: ', ridge.fit(X_train, Y_train).score(X_test, Y_test))\n",
    "print(\"Full sample score: \", ridge.fit(X, Y).score(X, Y))\n",
    "cross_val_score(ridge, X, Y, cv=10)"
   ]
  },
  {
   "cell_type": "markdown",
   "metadata": {},
   "source": [
    "### L1 regularization/Lasso Regression"
   ]
  },
  {
   "cell_type": "code",
   "execution_count": 9,
   "metadata": {},
   "outputs": [
    {
     "name": "stdout",
     "output_type": "stream",
     "text": [
      "binary\n",
      "\n",
      "R-Squared Value: \n",
      "0.8768707482993198\n",
      "\n",
      "Confusion matrix of results:\n",
      "\n",
      "Attrition     0    1\n",
      "row_0               \n",
      "0          1202  150\n",
      "1            31   87 \n",
      "\n",
      "False Negative rate: 63.29% \n",
      "False Positive rate: 2.51% \n"
     ]
    }
   ],
   "source": [
    "lasso = linear_model.LogisticRegression(penalty='l1', C=10)\n",
    "print(utils.multiclass.type_of_target(Y))\n",
    "lasso.fit(X, Y)\n",
    "y_pred = lasso.predict(X)\n",
    "conf_matrix = pd.crosstab(y_pred, Y)\n",
    "print(\"\\nR-Squared Value: \")\n",
    "print(lasso.score(X, Y))\n",
    "print(\"\\nConfusion matrix of results:\\n\")\n",
    "print(conf_matrix, \"\\n\")\n",
    "#class imbalance present\n",
    "sum_tn, sum_tp, sum_fn, sum_fp = 0,0,0,0\n",
    "for i in range(len(Y)):\n",
    "    if ((Y[i]==0) and (y_pred[i]==0)):\n",
    "        sum_tn+=1\n",
    "    elif ((Y[i]==0) and (y_pred[i]==1)):\n",
    "        sum_fp+=1\n",
    "    elif ((Y[i]==1) and (y_pred[i]==0)):\n",
    "        sum_fn+=1\n",
    "    else:\n",
    "        sum_tp+=1\n",
    "print(\"False Negative rate: {}% \\nFalse Positive rate: {}% \".format(\n",
    "    str(sum_fn/(sum_fn+sum_tp)*100)[:5],\n",
    "    str(sum_fp/(sum_fp+sum_tn)*100)[:4]))\n",
    "#Good chance for class imbalance as 80% is 0 for attrition"
   ]
  },
  {
   "cell_type": "code",
   "execution_count": 10,
   "metadata": {},
   "outputs": [
    {
     "name": "stdout",
     "output_type": "stream",
     "text": [
      "20% sample score:  0.8503401360544217\n",
      "Full sample score:  0.8782312925170068\n"
     ]
    },
    {
     "data": {
      "text/plain": [
       "array([0.88513514, 0.86486486, 0.86486486, 0.8707483 , 0.85714286,\n",
       "       0.83673469, 0.87755102, 0.87671233, 0.88356164, 0.88356164])"
      ]
     },
     "execution_count": 10,
     "metadata": {},
     "output_type": "execute_result"
    }
   ],
   "source": [
    "X_train, X_test, Y_train, Y_test= train_test_split(X, Y, test_size=.2, random_state=10)\n",
    "print('20% sample score: ', lasso.fit(X_train, Y_train).score(X_test, Y_test))\n",
    "print(\"Full sample score: \", lasso.fit(X, Y).score(X, Y))\n",
    "cross_val_score(lasso, X, Y, cv=10)"
   ]
  },
  {
   "cell_type": "code",
   "execution_count": 12,
   "metadata": {},
   "outputs": [
    {
     "name": "stdout",
     "output_type": "stream",
     "text": [
      "binary\n",
      "\n",
      "R-Squared Value: \n",
      "0.8802721088435375\n",
      "\n",
      "Confusion matrix of results:\n",
      "\n",
      "Attrition     0    1\n",
      "row_0               \n",
      "0          1202  145\n",
      "1            31   92 \n",
      "\n",
      "False Negative rate: 61.18% \n",
      "False Positive rate: 2.51% \n"
     ]
    }
   ],
   "source": [
    "lasso = linear_model.LogisticRegression(penalty='l1', C=1000)\n",
    "print(utils.multiclass.type_of_target(Y))\n",
    "lasso.fit(X, Y)\n",
    "y_pred = lasso.predict(X)\n",
    "conf_matrix = pd.crosstab(y_pred, Y)\n",
    "print(\"\\nR-Squared Value: \")\n",
    "print(lasso.score(X, Y))\n",
    "print(\"\\nConfusion matrix of results:\\n\")\n",
    "print(conf_matrix, \"\\n\")\n",
    "#class imbalance present\n",
    "sum_tn, sum_tp, sum_fn, sum_fp = 0,0,0,0\n",
    "for i in range(len(Y)):\n",
    "    if ((Y[i]==0) and (y_pred[i]==0)):\n",
    "        sum_tn+=1\n",
    "    elif ((Y[i]==0) and (y_pred[i]==1)):\n",
    "        sum_fp+=1\n",
    "    elif ((Y[i]==1) and (y_pred[i]==0)):\n",
    "        sum_fn+=1\n",
    "    else:\n",
    "        sum_tp+=1\n",
    "print(\"False Negative rate: {}% \\nFalse Positive rate: {}% \".format(\n",
    "    str(sum_fn/(sum_fn+sum_tp)*100)[:5],\n",
    "    str(sum_fp/(sum_fp+sum_tn)*100)[:4]))"
   ]
  },
  {
   "cell_type": "markdown",
   "metadata": {},
   "source": [
    "Lasso model seems to be the best since it has lower type I and type II error as compared to the others. More or less, the models are very similar with slight improvement using regularization, particularly L1"
   ]
  },
  {
   "cell_type": "code",
   "execution_count": null,
   "metadata": {
    "collapsed": true
   },
   "outputs": [],
   "source": []
  }
 ],
 "metadata": {
  "kernelspec": {
   "display_name": "Python 3",
   "language": "python",
   "name": "python3"
  },
  "language_info": {
   "codemirror_mode": {
    "name": "ipython",
    "version": 3
   },
   "file_extension": ".py",
   "mimetype": "text/x-python",
   "name": "python",
   "nbconvert_exporter": "python",
   "pygments_lexer": "ipython3",
   "version": "3.6.3"
  }
 },
 "nbformat": 4,
 "nbformat_minor": 2
}
